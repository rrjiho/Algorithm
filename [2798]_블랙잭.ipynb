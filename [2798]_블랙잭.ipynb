{
  "nbformat": 4,
  "nbformat_minor": 0,
  "metadata": {
    "colab": {
      "provenance": [],
      "authorship_tag": "ABX9TyNqry45ShpDJ7/rC9YtXs7+",
      "include_colab_link": true
    },
    "kernelspec": {
      "name": "python3",
      "display_name": "Python 3"
    },
    "language_info": {
      "name": "python"
    }
  },
  "cells": [
    {
      "cell_type": "markdown",
      "metadata": {
        "id": "view-in-github",
        "colab_type": "text"
      },
      "source": [
        "<a href=\"https://colab.research.google.com/github/rrjiho/Algorithm/blob/main/%5B2798%5D_%EB%B8%94%EB%9E%99%EC%9E%AD.ipynb\" target=\"_parent\"><img src=\"https://colab.research.google.com/assets/colab-badge.svg\" alt=\"Open In Colab\"/></a>"
      ]
    },
    {
      "cell_type": "code",
      "execution_count": null,
      "metadata": {
        "id": "5To7N1wgOrex"
      },
      "outputs": [],
      "source": [
        "N, M = map(int, input().split())\n",
        "A = list(map(int, input().split()))\n",
        "\n",
        "S=0\n",
        "for i in range(N):\n",
        "  for j in range(i+1, N):\n",
        "    for k in range(j+1, N):\n",
        "      if A[i] + A[j] + A[k] > M:\n",
        "        continue\n",
        "      else:\n",
        "        S = max(S, A[i] + A[j] + A[k])\n",
        "\n",
        "print(S)"
      ]
    }
  ]
}